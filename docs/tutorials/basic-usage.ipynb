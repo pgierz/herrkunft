{
 "cells": [
  {
   "cell_type": "markdown",
   "metadata": {},
   "source": [
    "# Basic Usage Tutorial\n",
    "\n",
    "This tutorial covers the fundamental features of herrkunft through interactive examples."
   ]
  },
  {
   "cell_type": "markdown",
   "metadata": {},
   "source": [
    "## Setup\n",
    "\n",
    "First, let's import the necessary modules and set up paths to our test fixtures:"
   ]
  },
  {
   "cell_type": "code",
   "execution_count": 1,
   "metadata": {
    "execution": {
     "iopub.execute_input": "2025-10-08T12:48:43.641634Z",
     "iopub.status.busy": "2025-10-08T12:48:43.641508Z",
     "iopub.status.idle": "2025-10-08T12:48:43.760695Z",
     "shell.execute_reply": "2025-10-08T12:48:43.760424Z"
    }
   },
   "outputs": [
    {
     "name": "stdout",
     "output_type": "stream",
     "text": [
      "Using test fixtures from: /Users/pgierz/work/Code/sandbox/provenance-as-library/docs/tutorials/../test_fixtures\n"
     ]
    }
   ],
   "source": [
    "from provenance import load_yaml, dump_yaml, extract_provenance_tree, clean_provenance\n",
    "from pathlib import Path\n",
    "import tempfile\n",
    "\n",
    "# Path to test fixtures\n",
    "fixtures_dir = Path(\"../test_fixtures\")\n",
    "config_file = fixtures_dir / \"defaults.yaml\"\n",
    "\n",
    "print(f\"Using test fixtures from: {fixtures_dir.absolute()}\")"
   ]
  },
  {
   "cell_type": "markdown",
   "metadata": {},
   "source": [
    "## Part 1: Loading YAML with Provenance\n",
    "\n",
    "Let's examine the default configuration file:"
   ]
  },
  {
   "cell_type": "markdown",
   "metadata": {},
   "source": [
    "::::{tab-set}\n",
    "\n",
    ":::{tab-item} YAML Format\n",
    "```yaml\n",
    "application:\n",
    "  name: MyApp\n",
    "  version: 1.0.0\n",
    "  debug: false\n",
    "\n",
    "database:\n",
    "  host: localhost\n",
    "  port: 5432\n",
    "  pool_size: 10\n",
    "\n",
    "server:\n",
    "  host: 0.0.0.0\n",
    "  port: 8080\n",
    "  workers: 4\n",
    "```\n",
    ":::\n",
    "\n",
    ":::{tab-item} JSON Format\n",
    "```json\n",
    "{\n",
    "  \"application\": {\n",
    "    \"name\": \"MyApp\",\n",
    "    \"version\": \"1.0.0\",\n",
    "    \"debug\": false\n",
    "  },\n",
    "  \"database\": {\n",
    "    \"host\": \"localhost\",\n",
    "    \"port\": 5432,\n",
    "    \"pool_size\": 10\n",
    "  },\n",
    "  \"server\": {\n",
    "    \"host\": \"0.0.0.0\",\n",
    "    \"port\": 8080,\n",
    "    \"workers\": 4\n",
    "  }\n",
    "}\n",
    "```\n",
    ":::\n",
    "\n",
    "::::"
   ]
  },
  {
   "cell_type": "markdown",
   "metadata": {},
   "source": [
    "Now load it with provenance tracking:"
   ]
  },
  {
   "cell_type": "code",
   "execution_count": 2,
   "metadata": {
    "execution": {
     "iopub.execute_input": "2025-10-08T12:48:43.779244Z",
     "iopub.status.busy": "2025-10-08T12:48:43.779075Z",
     "iopub.status.idle": "2025-10-08T12:48:43.785579Z",
     "shell.execute_reply": "2025-10-08T12:48:43.785342Z"
    }
   },
   "outputs": [
    {
     "name": "stdout",
     "output_type": "stream",
     "text": [
      "Loaded configuration:\n",
      "  Application: MyApp\n",
      "  Database: localhost:5432\n",
      "  Server: 0.0.0.0:8080\n"
     ]
    }
   ],
   "source": [
    "# Load YAML with provenance\n",
    "config = load_yaml(str(config_file), category=\"defaults\")\n",
    "\n",
    "print(\"Loaded configuration:\")\n",
    "print(f\"  Application: {config['application']['name']}\")\n",
    "print(f\"  Database: {config['database']['host']}:{config['database']['port']}\")\n",
    "print(f\"  Server: {config['server']['host']}:{config['server']['port']}\")"
   ]
  },
  {
   "cell_type": "markdown",
   "metadata": {},
   "source": [
    "## Part 2: Accessing Provenance Information\n",
    "\n",
    "Every value has provenance information:"
   ]
  },
  {
   "cell_type": "code",
   "execution_count": 3,
   "metadata": {
    "execution": {
     "iopub.execute_input": "2025-10-08T12:48:43.786966Z",
     "iopub.status.busy": "2025-10-08T12:48:43.786857Z",
     "iopub.status.idle": "2025-10-08T12:48:43.789137Z",
     "shell.execute_reply": "2025-10-08T12:48:43.788860Z"
    }
   },
   "outputs": [
    {
     "name": "stdout",
     "output_type": "stream",
     "text": [
      "Provenance for database.host:\n",
      "  Value: localhost\n",
      "  Source file: defaults.yaml\n",
      "  Line number: 8\n",
      "  Column: 9\n",
      "  Category: defaults\n"
     ]
    }
   ],
   "source": [
    "# Get a value\n",
    "db_host = config[\"database\"][\"host\"]\n",
    "\n",
    "# Access its provenance\n",
    "prov = db_host.provenance.current\n",
    "\n",
    "print(f\"Provenance for database.host:\")\n",
    "print(f\"  Value: {db_host}\")\n",
    "print(f\"  Source file: {Path(prov.yaml_file).name}\")\n",
    "print(f\"  Line number: {prov.line}\")\n",
    "print(f\"  Column: {prov.col}\")\n",
    "print(f\"  Category: {prov.category}\")"
   ]
  },
  {
   "cell_type": "markdown",
   "metadata": {},
   "source": [
    "## Part 3: Modifying Values\n",
    "\n",
    "When you modify values, the history is tracked:"
   ]
  },
  {
   "cell_type": "code",
   "execution_count": 4,
   "metadata": {
    "execution": {
     "iopub.execute_input": "2025-10-08T12:48:43.790510Z",
     "iopub.status.busy": "2025-10-08T12:48:43.790394Z",
     "iopub.status.idle": "2025-10-08T12:48:43.793342Z",
     "shell.execute_reply": "2025-10-08T12:48:43.793019Z"
    }
   },
   "outputs": [
    {
     "name": "stdout",
     "output_type": "stream",
     "text": [
      "Original host: localhost\n",
      "  History length: 1\n",
      "\n",
      "After 1st modification: staging.db.example.com\n",
      "  History length: 2\n",
      "\n",
      "After 2nd modification: production.db.example.com\n",
      "  History length: 3\n",
      "\n",
      "Complete history:\n",
      "  [0] defaults.yaml (defaults)\n",
      "  [1] defaults.yaml (defaults)\n",
      "  [2] defaults.yaml (defaults)\n"
     ]
    }
   ],
   "source": [
    "# Modify the host\n",
    "print(f\"Original host: {config['database']['host']}\")\n",
    "print(f\"  History length: {len(config['database']['host'].provenance)}\")\n",
    "\n",
    "config[\"database\"][\"host\"] = \"staging.db.example.com\"\n",
    "print(f\"\\nAfter 1st modification: {config['database']['host']}\")\n",
    "print(f\"  History length: {len(config['database']['host'].provenance)}\")\n",
    "\n",
    "config[\"database\"][\"host\"] = \"production.db.example.com\"\n",
    "print(f\"\\nAfter 2nd modification: {config['database']['host']}\")\n",
    "print(f\"  History length: {len(config['database']['host'].provenance)}\")\n",
    "\n",
    "# View full history\n",
    "print(\"\\nComplete history:\")\n",
    "for i, step in enumerate(config[\"database\"][\"host\"].provenance):\n",
    "    source = Path(step.yaml_file).name if step.yaml_file else \"runtime modification\"\n",
    "    print(f\"  [{i}] {source} ({step.category})\")"
   ]
  },
  {
   "cell_type": "markdown",
   "metadata": {},
   "source": [
    "## Part 4: Adding New Values\n",
    "\n",
    "When you add new configuration sections at runtime, they are stored but don't automatically get provenance wrappers:"
   ]
  },
  {
   "cell_type": "code",
   "execution_count": 5,
   "metadata": {
    "execution": {
     "iopub.execute_input": "2025-10-08T12:48:43.794909Z",
     "iopub.status.busy": "2025-10-08T12:48:43.794777Z",
     "iopub.status.idle": "2025-10-08T12:48:43.797165Z",
     "shell.execute_reply": "2025-10-08T12:48:43.796854Z"
    }
   },
   "outputs": [
    {
     "name": "stdout",
     "output_type": "stream",
     "text": [
      "New cache section added:\n",
      "  cache.enabled = True\n",
      "  Type of config: <class 'provenance.types.mappings.DictWithProvenance'>\n",
      "  Type of cache dict: <class 'dict'>\n",
      "  Note: New values added at runtime don't automatically get provenance wrappers\n"
     ]
    }
   ],
   "source": [
    "# Add new configuration using update() which preserves DictWithProvenance\n",
    "from provenance import DictWithProvenance\n",
    "\n",
    "# When adding new keys, the outer dict is DictWithProvenance but inner values are plain Python\n",
    "config[\"cache\"] = {\n",
    "    \"enabled\": True,\n",
    "    \"ttl\": 3600,\n",
    "    \"backend\": \"redis\"\n",
    "}\n",
    "\n",
    "print(f\"New cache section added:\")\n",
    "print(f\"  cache.enabled = {config['cache']['enabled']}\")\n",
    "print(f\"  Type of config: {type(config)}\")\n",
    "print(f\"  Type of cache dict: {type(config['cache'])}\")\n",
    "print(f\"  Note: New values added at runtime don't automatically get provenance wrappers\")"
   ]
  },
  {
   "cell_type": "markdown",
   "metadata": {},
   "source": [
    "## Part 5: Saving with Provenance\n",
    "\n",
    "Save the configuration with provenance as comments:"
   ]
  },
  {
   "cell_type": "code",
   "execution_count": 6,
   "metadata": {
    "execution": {
     "iopub.execute_input": "2025-10-08T12:48:43.798674Z",
     "iopub.status.busy": "2025-10-08T12:48:43.798544Z",
     "iopub.status.idle": "2025-10-08T12:48:43.803155Z",
     "shell.execute_reply": "2025-10-08T12:48:43.802834Z"
    }
   },
   "outputs": [
    {
     "name": "stdout",
     "output_type": "stream",
     "text": [
      "Saved to: /var/folders/73/2rxq11j53s16d1p3ryf6t95mwcb3pw/T/tmp_o7v7krx_output.yaml\n",
      "\n",
      "Contents with provenance comments:\n",
      "application:\n",
      "#  from: defaults.yaml | line: 3 | col: 9 | category: defaults\n",
      "  name: MyApp\n",
      "#  from: defaults.yaml | line: 4 | col: 12 | category: defaults\n",
      "  version: 1.0.0\n",
      "#  from: defaults.yaml | line: 5 | col: 10 | category: defaults\n",
      "  debug: false\n",
      "database:\n",
      "#  from: defaults.yaml | line: 8 | col: 9 | category: defaults\n",
      "  host: production.db.example.com\n",
      "#  from: defaults.yaml | line: 9 | col: 9 | category: defaults\n",
      "  port: 5432\n",
      "#  from: defaults.yaml | line: 10 | col: 9 | category: defaults\n",
      "  name: myapp_db\n",
      "#  from: defaults.yaml | line: 11 | col: 14 | category: defaults\n",
      "  pool_size: 10\n",
      "#  from: defaults.yaml | line: 12 | col: 12 | category: defaults\n",
      "  timeout: 30\n",
      "server:\n",
      "#  from: defaults.yaml | line: 15 | col: 9 | category: defaults\n",
      "  host: 0.0.0.0\n",
      "#  from: defaults.yaml | line: 16 | col: 9 | category: defaults\n",
      "  port: 8080\n",
      "#  from: defaults.yaml | line: 17 | col: 12 | category: defaults\n",
      "  workers: 4\n",
      "#  from: defaults.yaml | line: 18 | col: 20 | category: defaults\n",
      "  max_connections: 1000\n",
      "logging:\n",
      "#  from: defaults.yaml | line: 21 | col: 10 | category: defaults\n",
      "  level: INFO\n",
      "#  from: defaults.yaml | line: 22 | col: 11 | category: defaults\n",
      "  format: json\n",
      "#  from: defaults.yaml | line: 23 | col: 11 | category: defaults\n",
      "  output: stdout\n",
      "cache:\n",
      "  enabled: true\n",
      "  ttl: 3600\n",
      "  backend: redis\n",
      "\n"
     ]
    }
   ],
   "source": [
    "# Save with provenance comments\n",
    "output_file = Path(tempfile.mktemp(suffix=\"_output.yaml\"))\n",
    "dump_yaml(config, str(output_file), include_provenance=True)\n",
    "\n",
    "print(f\"Saved to: {output_file}\")\n",
    "print(f\"\\nContents with provenance comments:\")\n",
    "print(output_file.read_text())"
   ]
  },
  {
   "cell_type": "markdown",
   "metadata": {},
   "source": [
    "::::{tab-set}\n",
    "\n",
    ":::{tab-item} YAML with Provenance\n",
    "Output includes provenance comments showing source:\n",
    "```yaml\n",
    "application:\n",
    "  # from: defaults.yaml | line: 2 | col: 8 | category: defaults\n",
    "  name: MyApp\n",
    "  # from: defaults.yaml | line: 3 | col: 12 | category: defaults\n",
    "  version: 1.0.0\n",
    "  # from: defaults.yaml | line: 4 | col: 9 | category: defaults\n",
    "  debug: false\n",
    "database:\n",
    "  # modified at runtime\n",
    "  host: production.db.example.com\n",
    "  # from: defaults.yaml | line: 8 | col: 8 | category: defaults\n",
    "  port: 5432\n",
    "```\n",
    ":::\n",
    "\n",
    ":::{tab-item} Clean YAML\n",
    "Without provenance comments:\n",
    "```yaml\n",
    "application:\n",
    "  name: MyApp\n",
    "  version: 1.0.0\n",
    "  debug: false\n",
    "database:\n",
    "  host: production.db.example.com\n",
    "  port: 5432\n",
    "```\n",
    ":::\n",
    "\n",
    "::::"
   ]
  },
  {
   "cell_type": "markdown",
   "metadata": {},
   "source": [
    "## Part 6: Extracting Provenance Tree\n",
    "\n",
    "Get complete provenance information:"
   ]
  },
  {
   "cell_type": "code",
   "execution_count": 7,
   "metadata": {
    "execution": {
     "iopub.execute_input": "2025-10-08T12:48:43.805191Z",
     "iopub.status.busy": "2025-10-08T12:48:43.805066Z",
     "iopub.status.idle": "2025-10-08T12:48:43.809174Z",
     "shell.execute_reply": "2025-10-08T12:48:43.808588Z"
    }
   },
   "outputs": [
    {
     "name": "stdout",
     "output_type": "stream",
     "text": [
      "Provenance tree for database section:\n",
      "  host: defaults.yaml:8\n",
      "  port: defaults.yaml:9\n",
      "  name: defaults.yaml:10\n",
      "  pool_size: defaults.yaml:11\n",
      "  timeout: defaults.yaml:12\n"
     ]
    }
   ],
   "source": [
    "# Extract full provenance tree\n",
    "prov_tree = extract_provenance_tree(config)\n",
    "\n",
    "print(\"Provenance tree for database section:\")\n",
    "for key, prov_info in prov_tree[\"database\"].items():\n",
    "    yaml_file = prov_info.get('yaml_file', 'runtime')\n",
    "    line = prov_info.get('line', 'N/A')\n",
    "    source = Path(yaml_file).name if yaml_file != 'runtime' else yaml_file\n",
    "    print(f\"  {key}: {source}:{line}\")"
   ]
  },
  {
   "cell_type": "markdown",
   "metadata": {},
   "source": [
    "## Part 7: Hierarchical Configuration\n",
    "\n",
    "Load and merge multiple configurations:"
   ]
  },
  {
   "cell_type": "markdown",
   "metadata": {},
   "source": [
    "::::{tab-set}\n",
    "\n",
    ":::{tab-item} Defaults YAML\n",
    "```yaml\n",
    "database:\n",
    "  host: localhost\n",
    "  pool_size: 10\n",
    "\n",
    "server:\n",
    "  workers: 4\n",
    "```\n",
    ":::\n",
    "\n",
    ":::{tab-item} Production YAML\n",
    "```yaml\n",
    "database:\n",
    "  host: prod.db.example.com\n",
    "  pool_size: 50\n",
    "\n",
    "server:\n",
    "  workers: 16\n",
    "```\n",
    ":::\n",
    "\n",
    ":::{tab-item} Merged Result\n",
    "```yaml\n",
    "database:\n",
    "  host: prod.db.example.com  # from production\n",
    "  pool_size: 50              # from production\n",
    "\n",
    "server:\n",
    "  workers: 16                # from production\n",
    "```\n",
    ":::\n",
    "\n",
    "::::"
   ]
  },
  {
   "cell_type": "code",
   "execution_count": 8,
   "metadata": {
    "execution": {
     "iopub.execute_input": "2025-10-08T12:48:43.812601Z",
     "iopub.status.busy": "2025-10-08T12:48:43.812316Z",
     "iopub.status.idle": "2025-10-08T12:48:43.823844Z",
     "shell.execute_reply": "2025-10-08T12:48:43.823025Z"
    }
   },
   "outputs": [
    {
     "name": "stdout",
     "output_type": "stream",
     "text": [
      "Final configuration sources:\n",
      "\n",
      "database:\n",
      "  host: production (production.yaml)\n",
      "  pool_size: production (production.yaml)\n",
      "  timeout: production (production.yaml)\n",
      "\n",
      "server:\n",
      "  host: production (production.yaml)\n",
      "  port: production (production.yaml)\n",
      "  workers: production (production.yaml)\n",
      "  max_connections: production (production.yaml)\n"
     ]
    }
   ],
   "source": [
    "# Load both configurations\n",
    "base_config = load_yaml(str(fixtures_dir / \"defaults.yaml\"), category=\"defaults\")\n",
    "prod_config = load_yaml(str(fixtures_dir / \"production.yaml\"), category=\"production\")\n",
    "\n",
    "# Merge (production wins)\n",
    "final_config = base_config.copy()\n",
    "final_config.update(prod_config)\n",
    "\n",
    "# Check which category each value came from\n",
    "print(\"Final configuration sources:\")\n",
    "for section in [\"database\", \"server\"]:\n",
    "    print(f\"\\n{section}:\")\n",
    "    for key, value in final_config[section].items():\n",
    "        prov = value.provenance.current\n",
    "        source = Path(prov.yaml_file).name\n",
    "        print(f\"  {key}: {prov.category} ({source})\")"
   ]
  },
  {
   "cell_type": "markdown",
   "metadata": {},
   "source": [
    "## Part 8: Cleaning Provenance\n",
    "\n",
    "Remove provenance for external use:"
   ]
  },
  {
   "cell_type": "code",
   "execution_count": 9,
   "metadata": {
    "execution": {
     "iopub.execute_input": "2025-10-08T12:48:43.826694Z",
     "iopub.status.busy": "2025-10-08T12:48:43.826556Z",
     "iopub.status.idle": "2025-10-08T12:48:43.830831Z",
     "shell.execute_reply": "2025-10-08T12:48:43.830603Z"
    }
   },
   "outputs": [
    {
     "name": "stdout",
     "output_type": "stream",
     "text": [
      "Type comparison:\n",
      "  Original: <class 'dict'>\n",
      "  Cleaned: <class 'dict'>\n",
      "  Original host: <class 'provenance.types.wrappers.StrWithProvenance'>\n",
      "  Cleaned host: <class 'str'>\n",
      "\n",
      "Clean YAML (no provenance):\n",
      "application:\n",
      "  name: MyApp\n",
      "  version: 1.0.0\n",
      "  debug: false\n",
      "database:\n",
      "  host: prod.db.example.com\n",
      "  pool_size: 50\n",
      "  timeout: 60\n",
      "server:\n",
      "  host: prod.example.com\n",
      "  port: 443\n",
      "  workers: 16\n",
      "  max_connections: 5000\n",
      "logging:\n",
      "  level: WARNING\n",
      "  output: file\n",
      "  file_path: /var/log/myapp/app.log\n",
      "\n"
     ]
    }
   ],
   "source": [
    "# Clean provenance\n",
    "clean_config = clean_provenance(final_config)\n",
    "\n",
    "print(\"Type comparison:\")\n",
    "print(f\"  Original: {type(final_config)}\")\n",
    "print(f\"  Cleaned: {type(clean_config)}\")\n",
    "print(f\"  Original host: {type(final_config['database']['host'])}\")\n",
    "print(f\"  Cleaned host: {type(clean_config['database']['host'])}\")\n",
    "\n",
    "# Save clean version\n",
    "clean_file = Path(tempfile.mktemp(suffix=\"_clean.yaml\"))\n",
    "dump_yaml(clean_config, str(clean_file), include_provenance=False, clean=True)\n",
    "\n",
    "print(f\"\\nClean YAML (no provenance):\")\n",
    "print(clean_file.read_text())"
   ]
  },
  {
   "cell_type": "markdown",
   "metadata": {},
   "source": [
    "## Cleanup"
   ]
  },
  {
   "cell_type": "code",
   "execution_count": 10,
   "metadata": {
    "execution": {
     "iopub.execute_input": "2025-10-08T12:48:43.832045Z",
     "iopub.status.busy": "2025-10-08T12:48:43.831943Z",
     "iopub.status.idle": "2025-10-08T12:48:43.834086Z",
     "shell.execute_reply": "2025-10-08T12:48:43.833855Z"
    }
   },
   "outputs": [
    {
     "name": "stdout",
     "output_type": "stream",
     "text": [
      "Cleaned up temporary files\n"
     ]
    }
   ],
   "source": [
    "# Clean up temporary files\n",
    "for file in [output_file, clean_file]:\n",
    "    if file.exists():\n",
    "        file.unlink()\n",
    "print(\"Cleaned up temporary files\")"
   ]
  },
  {
   "cell_type": "markdown",
   "metadata": {},
   "source": [
    "## Summary\n",
    "\n",
    "In this tutorial, you learned:\n",
    "\n",
    "1. How to load YAML files with provenance tracking\n",
    "2. How to access provenance information for any value\n",
    "3. How modification history is tracked automatically\n",
    "4. How to add new values with provenance\n",
    "5. How to save configurations with provenance comments\n",
    "6. How to extract complete provenance trees\n",
    "7. How to merge configurations hierarchically\n",
    "8. How to clean provenance for external use\n",
    "\n",
    "## Next Steps\n",
    "\n",
    "- Try the [Scientific Workflows Tutorial](scientific-workflows.md)\n",
    "- Explore [Multi-Environment Configuration](multi-environment.md)\n",
    "- Read the [User Guide](../user-guide/loading-yaml.md)"
   ]
  }
 ],
 "metadata": {
  "kernelspec": {
   "display_name": "Python 3",
   "language": "python",
   "name": "python3"
  },
  "language_info": {
   "codemirror_mode": {
    "name": "ipython",
    "version": 3
   },
   "file_extension": ".py",
   "mimetype": "text/x-python",
   "name": "python",
   "nbconvert_exporter": "python",
   "pygments_lexer": "ipython3",
   "version": "3.10.12"
  }
 },
 "nbformat": 4,
 "nbformat_minor": 4
}
