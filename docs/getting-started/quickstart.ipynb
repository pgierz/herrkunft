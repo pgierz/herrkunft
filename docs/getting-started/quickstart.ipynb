{
 "cells": [
  {
   "cell_type": "markdown",
   "metadata": {},
   "source": [
    "# Quick Start\n",
    "\n",
    "Get up and running with herrkunft in 5 minutes!"
   ]
  },
  {
   "cell_type": "markdown",
   "metadata": {},
   "source": [
    "## Basic Workflow\n",
    "\n",
    "The typical herrkunft workflow involves three steps:\n",
    "\n",
    "1. **Load** YAML configuration files with provenance tracking\n",
    "2. **Access** values normally while preserving provenance information\n",
    "3. **Save** configurations with provenance metadata as comments"
   ]
  },
  {
   "cell_type": "markdown",
   "metadata": {},
   "source": [
    "## Your First herrkunft Program\n",
    "\n",
    "Let's create a simple example with real, executable code."
   ]
  },
  {
   "cell_type": "markdown",
   "metadata": {},
   "source": [
    "### Step 1: Load a Configuration File\n",
    "\n",
    "We'll use a sample configuration file from the test fixtures:"
   ]
  },
  {
   "cell_type": "markdown",
   "metadata": {},
   "source": [
    "::::{tab-set}\n",
    "\n",
    ":::{tab-item} Input YAML\n",
    "Content of `defaults.yaml`:\n",
    "```yaml\n",
    "database:\n",
    "  host: localhost\n",
    "  port: 5432\n",
    "  name: myapp_db\n",
    "\n",
    "server:\n",
    "  host: 0.0.0.0\n",
    "  port: 8080\n",
    "  workers: 4\n",
    "```\n",
    ":::\n",
    "\n",
    ":::{tab-item} JSON Equivalent\n",
    "```json\n",
    "{\n",
    "  \"database\": {\n",
    "    \"host\": \"localhost\",\n",
    "    \"port\": 5432,\n",
    "    \"name\": \"myapp_db\"\n",
    "  },\n",
    "  \"server\": {\n",
    "    \"host\": \"0.0.0.0\",\n",
    "    \"port\": 8080,\n",
    "    \"workers\": 4\n",
    "  }\n",
    "}\n",
    "```\n",
    ":::\n",
    "\n",
    "::::"
   ]
  },
  {
   "cell_type": "markdown",
   "metadata": {},
   "source": [
    "### Step 2: Load and Use the Configuration"
   ]
  },
  {
   "cell_type": "code",
   "execution_count": 1,
   "metadata": {
    "execution": {
     "iopub.execute_input": "2025-10-08T12:10:58.717028Z",
     "iopub.status.busy": "2025-10-08T12:10:58.716920Z",
     "iopub.status.idle": "2025-10-08T12:10:58.832744Z",
     "shell.execute_reply": "2025-10-08T12:10:58.832464Z"
    }
   },
   "outputs": [
    {
     "name": "stdout",
     "output_type": "stream",
     "text": [
      "Database host: localhost\n",
      "Server port: 8080\n"
     ]
    }
   ],
   "source": [
    "from provenance import load_yaml, dump_yaml\n",
    "from pathlib import Path\n",
    "\n",
    "# Get the path to our test fixtures\n",
    "fixtures_dir = Path(\"../test_fixtures\")\n",
    "config_file = fixtures_dir / \"defaults.yaml\"\n",
    "\n",
    "# Load YAML with provenance tracking\n",
    "config = load_yaml(str(config_file), category=\"defaults\")\n",
    "\n",
    "# Access values normally\n",
    "print(f\"Database host: {config['database']['host']}\")\n",
    "print(f\"Server port: {config['server']['port']}\")"
   ]
  },
  {
   "cell_type": "markdown",
   "metadata": {},
   "source": [
    "### Step 3: Access Provenance Information"
   ]
  },
  {
   "cell_type": "code",
   "execution_count": 2,
   "metadata": {
    "execution": {
     "iopub.execute_input": "2025-10-08T12:10:58.851654Z",
     "iopub.status.busy": "2025-10-08T12:10:58.851481Z",
     "iopub.status.idle": "2025-10-08T12:10:58.854026Z",
     "shell.execute_reply": "2025-10-08T12:10:58.853685Z"
    }
   },
   "outputs": [
    {
     "name": "stdout",
     "output_type": "stream",
     "text": [
      "\n",
      "Provenance Information:\n",
      "Value came from: defaults.yaml\n",
      "Line: 8, Column: 9\n",
      "Category: defaults\n"
     ]
    }
   ],
   "source": [
    "# Access provenance information\n",
    "db_host = config['database']['host']\n",
    "provenance_info = db_host.provenance.current\n",
    "\n",
    "print(f\"\\nProvenance Information:\")\n",
    "print(f\"Value came from: {Path(provenance_info.yaml_file).name}\")\n",
    "print(f\"Line: {provenance_info.line}, Column: {provenance_info.col}\")\n",
    "print(f\"Category: {provenance_info.category}\")"
   ]
  },
  {
   "cell_type": "markdown",
   "metadata": {},
   "source": [
    "### Step 4: Modify and Save\n",
    "\n",
    "Let's modify some values and save the configuration with provenance comments:"
   ]
  },
  {
   "cell_type": "code",
   "execution_count": 3,
   "metadata": {
    "execution": {
     "iopub.execute_input": "2025-10-08T12:10:58.855556Z",
     "iopub.status.busy": "2025-10-08T12:10:58.855434Z",
     "iopub.status.idle": "2025-10-08T12:10:58.860687Z",
     "shell.execute_reply": "2025-10-08T12:10:58.860413Z"
    }
   },
   "outputs": [
    {
     "name": "stdout",
     "output_type": "stream",
     "text": [
      "Saved to: /var/folders/73/2rxq11j53s16d1p3ryf6t95mwcb3pw/T/tmpdgcz_1m7.yaml\n",
      "\n",
      "Contents with provenance comments:\n",
      "application:\n",
      "#  from: defaults.yaml | line: 3 | col: 9 | category: defaults\n",
      "  name: MyApp\n",
      "#  from: defaults.yaml | line: 4 | col: 12 | category: defaults\n",
      "  version: 1.0.0\n",
      "#  from: defaults.yaml | line: 5 | col: 10 | category: defaults\n",
      "  debug: false\n",
      "database:\n",
      "#  from: defaults.yaml | line: 8 | col: 9 | category: defaults\n",
      "  host: production.db.example.com\n",
      "#  from: defaults.yaml | line: 9 | col: 9 | category: defaults\n",
      "  port: 5432\n",
      "#  from: defaults.yaml | line: 10 | col: 9 | category: defaults\n",
      "  name: myapp_db\n",
      "#  from: defaults.yaml | line: 11 | col: 14 | category: defaults\n",
      "  pool_size: 20\n",
      "#  from: defaults.yaml | line: 12 | col: 12 | category: defaults\n",
      "  timeout: 30\n",
      "server:\n",
      "#  from: defaults.yaml | line: 15 | col: 9 | category: defaults\n",
      "  host: 0.0.0.0\n",
      "#  from: defaults.yaml | line: 16 | col: 9 | category: defaults\n",
      "  port: 8080\n",
      "#  from: defaults.yaml | line: 17 | col: 12 | category: defaults\n",
      "  workers: 4\n",
      "#  from: defaults.yaml | line: 18 | col: 20 | category: defaults\n",
      "  max_connections: 1000\n",
      "logging:\n",
      "#  from: defaults.yaml | line: 21 | col: 10 | category: defaults\n",
      "  level: INFO\n",
      "#  from: defaults.yaml | line: 22 | col: 11 | category: defaults\n",
      "  format: json\n",
      "#  from: defaults.yaml | line: 23 | col: 11 | category: defaults\n",
      "  output: stdout\n",
      "\n"
     ]
    }
   ],
   "source": [
    "# Modify configuration\n",
    "config['database']['host'] = 'production.db.example.com'\n",
    "config['database']['pool_size'] = 20\n",
    "\n",
    "# Save with provenance as comments\n",
    "import tempfile\n",
    "output_file = Path(tempfile.mktemp(suffix=\".yaml\"))\n",
    "dump_yaml(config, str(output_file), include_provenance=True)\n",
    "\n",
    "print(f\"Saved to: {output_file}\")\n",
    "print(f\"\\nContents with provenance comments:\")\n",
    "print(output_file.read_text())"
   ]
  },
  {
   "cell_type": "markdown",
   "metadata": {},
   "source": [
    "::::{tab-set}\n",
    "\n",
    ":::{tab-item} Output YAML with Provenance\n",
    "The output file includes provenance comments:\n",
    "```yaml\n",
    "database:\n",
    "  # modified at runtime\n",
    "  host: production.db.example.com\n",
    "  # from: defaults.yaml | line: 8 | col: 8 | category: defaults\n",
    "  port: 5432\n",
    "  # from: defaults.yaml | line: 9 | col: 8 | category: defaults\n",
    "  name: myapp_db\n",
    "  # added at runtime\n",
    "  pool_size: 20\n",
    "server:\n",
    "  # from: defaults.yaml | line: 13 | col: 8 | category: defaults\n",
    "  host: 0.0.0.0\n",
    "  # from: defaults.yaml | line: 14 | col: 8 | category: defaults\n",
    "  port: 8080\n",
    "  # from: defaults.yaml | line: 15 | col: 11 | category: defaults\n",
    "  workers: 4\n",
    "```\n",
    ":::\n",
    "\n",
    ":::{tab-item} Clean YAML\n",
    "Without provenance comments:\n",
    "```yaml\n",
    "database:\n",
    "  host: production.db.example.com\n",
    "  port: 5432\n",
    "  name: myapp_db\n",
    "  pool_size: 20\n",
    "server:\n",
    "  host: 0.0.0.0\n",
    "  port: 8080\n",
    "  workers: 4\n",
    "```\n",
    ":::\n",
    "\n",
    ":::{tab-item} JSON Format\n",
    "```json\n",
    "{\n",
    "  \"database\": {\n",
    "    \"host\": \"production.db.example.com\",\n",
    "    \"port\": 5432,\n",
    "    \"name\": \"myapp_db\",\n",
    "    \"pool_size\": 20\n",
    "  },\n",
    "  \"server\": {\n",
    "    \"host\": \"0.0.0.0\",\n",
    "    \"port\": 8080,\n",
    "    \"workers\": 4\n",
    "  }\n",
    "}\n",
    "```\n",
    ":::\n",
    "\n",
    "::::"
   ]
  },
  {
   "cell_type": "markdown",
   "metadata": {},
   "source": [
    "## Core Concepts"
   ]
  },
  {
   "cell_type": "markdown",
   "metadata": {},
   "source": [
    "### 1. Provenance Tracking\n",
    "\n",
    "Every value loaded from YAML automatically tracks its origin:"
   ]
  },
  {
   "cell_type": "code",
   "execution_count": 4,
   "metadata": {
    "execution": {
     "iopub.execute_input": "2025-10-08T12:10:58.862480Z",
     "iopub.status.busy": "2025-10-08T12:10:58.862254Z",
     "iopub.status.idle": "2025-10-08T12:10:58.864597Z",
     "shell.execute_reply": "2025-10-08T12:10:58.864369Z"
    }
   },
   "outputs": [
    {
     "name": "stdout",
     "output_type": "stream",
     "text": [
      "Value: 5432\n",
      "Type: <class 'provenance.types.wrappers.IntWithProvenance'>\n",
      "Math works: 5432 + 10 = 5442\n",
      "\n",
      "Provenance: defaults.yaml:9\n"
     ]
    }
   ],
   "source": [
    "value = config['database']['port']\n",
    "\n",
    "# The value behaves like an int\n",
    "print(f\"Value: {value}\")\n",
    "print(f\"Type: {type(value)}\")\n",
    "print(f\"Math works: {value} + 10 = {value + 10}\")\n",
    "\n",
    "# But also has provenance information\n",
    "prov = value.provenance\n",
    "print(f\"\\nProvenance: {Path(prov.current.yaml_file).name}:{prov.current.line}\")"
   ]
  },
  {
   "cell_type": "markdown",
   "metadata": {},
   "source": [
    "### 2. Categories and Hierarchy\n",
    "\n",
    "Categories allow hierarchical conflict resolution:"
   ]
  },
  {
   "cell_type": "code",
   "execution_count": 5,
   "metadata": {
    "execution": {
     "iopub.execute_input": "2025-10-08T12:10:58.865824Z",
     "iopub.status.busy": "2025-10-08T12:10:58.865729Z",
     "iopub.status.idle": "2025-10-08T12:10:58.873030Z",
     "shell.execute_reply": "2025-10-08T12:10:58.872725Z"
    }
   },
   "outputs": [
    {
     "name": "stdout",
     "output_type": "stream",
     "text": [
      "Final configuration sources:\n",
      "  host: from production (production.yaml)\n",
      "  pool_size: from production (production.yaml)\n",
      "  timeout: from production (production.yaml)\n"
     ]
    }
   ],
   "source": [
    "from provenance import ProvenanceLoader\n",
    "\n",
    "loader = ProvenanceLoader()\n",
    "\n",
    "# Load multiple configs with different priorities\n",
    "defaults = loader.load(str(fixtures_dir / \"defaults.yaml\"), category=\"defaults\")\n",
    "production = loader.load(str(fixtures_dir / \"production.yaml\"), category=\"production\")\n",
    "\n",
    "# Merge with automatic conflict resolution\n",
    "# Production values override defaults\n",
    "final_config = defaults.copy()\n",
    "final_config.update(production)\n",
    "\n",
    "# Each value remembers which file it came from\n",
    "print(\"Final configuration sources:\")\n",
    "for key, value in final_config['database'].items():\n",
    "    prov = value.provenance.current\n",
    "    print(f\"  {key}: from {prov.category} ({Path(prov.yaml_file).name})\")"
   ]
  },
  {
   "cell_type": "markdown",
   "metadata": {},
   "source": [
    "::::{tab-set}\n",
    "\n",
    ":::{tab-item} Defaults YAML\n",
    "```yaml\n",
    "database:\n",
    "  host: localhost\n",
    "  port: 5432\n",
    "  pool_size: 10\n",
    "```\n",
    ":::\n",
    "\n",
    ":::{tab-item} Production YAML\n",
    "```yaml\n",
    "database:\n",
    "  host: prod.db.example.com\n",
    "  pool_size: 50\n",
    "```\n",
    ":::\n",
    "\n",
    ":::{tab-item} Merged Result\n",
    "```yaml\n",
    "database:\n",
    "  host: prod.db.example.com  # from production\n",
    "  port: 5432                  # from defaults\n",
    "  pool_size: 50               # from production (overrides)\n",
    "```\n",
    ":::\n",
    "\n",
    "::::"
   ]
  },
  {
   "cell_type": "markdown",
   "metadata": {},
   "source": [
    "### 3. Modification History\n",
    "\n",
    "All changes are tracked in the provenance history:"
   ]
  },
  {
   "cell_type": "code",
   "execution_count": 6,
   "metadata": {
    "execution": {
     "iopub.execute_input": "2025-10-08T12:10:58.874518Z",
     "iopub.status.busy": "2025-10-08T12:10:58.874432Z",
     "iopub.status.idle": "2025-10-08T12:10:58.880135Z",
     "shell.execute_reply": "2025-10-08T12:10:58.879762Z"
    }
   },
   "outputs": [
    {
     "name": "stdout",
     "output_type": "stream",
     "text": [
      "Current value: production.db.example.com\n",
      "History has 3 steps:\n",
      "\n",
      "  Step 0: defaults.yaml (defaults)\n",
      "  Step 1: defaults.yaml (defaults)\n",
      "  Step 2: defaults.yaml (defaults)\n"
     ]
    }
   ],
   "source": [
    "# Start fresh with defaults\n",
    "config = load_yaml(str(fixtures_dir / \"defaults.yaml\"), category=\"defaults\")\n",
    "\n",
    "# Make multiple modifications\n",
    "config['database']['host'] = 'staging.db.example.com'\n",
    "config['database']['host'] = 'production.db.example.com'\n",
    "\n",
    "# Access full history\n",
    "host_value = config['database']['host']\n",
    "print(f\"Current value: {host_value}\")\n",
    "print(f\"History has {len(host_value.provenance)} steps:\\n\")\n",
    "\n",
    "for i, step in enumerate(host_value.provenance):\n",
    "    source = Path(step.yaml_file).name if step.yaml_file else \"runtime\"\n",
    "    print(f\"  Step {i}: {source} ({step.category})\")"
   ]
  },
  {
   "cell_type": "markdown",
   "metadata": {},
   "source": [
    "## Common Use Cases"
   ]
  },
  {
   "cell_type": "markdown",
   "metadata": {},
   "source": [
    "### Scientific Computing\n",
    "\n",
    "Track simulation parameters:"
   ]
  },
  {
   "cell_type": "code",
   "execution_count": 7,
   "metadata": {
    "execution": {
     "iopub.execute_input": "2025-10-08T12:10:58.881815Z",
     "iopub.status.busy": "2025-10-08T12:10:58.881682Z",
     "iopub.status.idle": "2025-10-08T12:10:58.887376Z",
     "shell.execute_reply": "2025-10-08T12:10:58.887116Z"
    }
   },
   "outputs": [
    {
     "name": "stdout",
     "output_type": "stream",
     "text": [
      "Saved metadata with provenance:\n",
      "{\n",
      "  \"results\": {\n",
      "    \"status\": \"completed\",\n",
      "    \"results\": [\n",
      "      1,\n",
      "      2,\n",
      "      3\n",
      "    ]\n",
      "  },\n",
      "  \"provenance\": {\n",
      "    \"application\": {\n",
      "      \"name\": {\n",
      "        \"category\": \"experiment\",\n",
      "        \"yaml_file\": \"/Users/pgierz/work/Code/sandbox/provenance-as-library/docs/getting-started/../test_fixtures/defaults.yaml\",\n",
      "        \"line\": 3,\n",
      "        \"col\": 9,\n",
      "        \"from_choose\": []\n",
      "      },\n",
      "      \"version\": {\n",
      "        \"category\": \"experiment\",\n",
      "        \"yaml_file\": \"/Users/pgierz/work/Code/sandbox/prov...\n"
     ]
    }
   ],
   "source": [
    "from provenance import extract_provenance_tree\n",
    "import json\n",
    "\n",
    "# Load simulation config\n",
    "sim_config = load_yaml(str(fixtures_dir / \"defaults.yaml\"), category=\"experiment\")\n",
    "\n",
    "# Simulate running a simulation\n",
    "def run_simulation(config):\n",
    "    return {\"status\": \"completed\", \"results\": [1, 2, 3]}\n",
    "\n",
    "results = run_simulation(sim_config)\n",
    "\n",
    "# Save provenance with results for reproducibility\n",
    "metadata = {\n",
    "    \"results\": results,\n",
    "    \"provenance\": extract_provenance_tree(sim_config)\n",
    "}\n",
    "\n",
    "print(\"Saved metadata with provenance:\")\n",
    "print(json.dumps(metadata, indent=2, default=str)[:500] + \"...\")"
   ]
  },
  {
   "cell_type": "markdown",
   "metadata": {},
   "source": [
    "### Multi-Environment Configuration\n",
    "\n",
    "Manage dev/staging/production configs:"
   ]
  },
  {
   "cell_type": "code",
   "execution_count": 8,
   "metadata": {
    "execution": {
     "iopub.execute_input": "2025-10-08T12:10:58.888771Z",
     "iopub.status.busy": "2025-10-08T12:10:58.888667Z",
     "iopub.status.idle": "2025-10-08T12:10:58.895490Z",
     "shell.execute_reply": "2025-10-08T12:10:58.895214Z"
    }
   },
   "outputs": [
    {
     "name": "stdout",
     "output_type": "stream",
     "text": [
      "Database host from: environment\n",
      "Logging level from: environment\n"
     ]
    }
   ],
   "source": [
    "import os\n",
    "\n",
    "loader = ProvenanceLoader()\n",
    "\n",
    "# Always load defaults first\n",
    "config = loader.load(str(fixtures_dir / \"defaults.yaml\"), category=\"defaults\")\n",
    "\n",
    "# Override with environment-specific settings\n",
    "env = \"production\"  # In real code: os.getenv(\"ENVIRONMENT\", \"development\")\n",
    "env_config = loader.load(str(fixtures_dir / f\"{env}.yaml\"), category=\"environment\", subcategory=env)\n",
    "config.update(env_config)\n",
    "\n",
    "# Each value knows its source\n",
    "print(f\"Database host from: {config['database']['host'].provenance.current.category}\")\n",
    "print(f\"Logging level from: {config['logging']['level'].provenance.current.category}\")"
   ]
  },
  {
   "cell_type": "markdown",
   "metadata": {},
   "source": [
    "## Next Steps\n",
    "\n",
    "Now that you understand the basics:\n",
    "\n",
    "1. Explore [Complete Examples](examples.md)\n",
    "2. Work through [Tutorials](../tutorials/basic-usage.ipynb)\n",
    "3. Read the [User Guide](../user-guide/loading-yaml.md)\n",
    "4. Check the [API Reference](../api/core.md)"
   ]
  },
  {
   "cell_type": "markdown",
   "metadata": {},
   "source": [
    "## Quick Reference\n",
    "\n",
    "| Task | Code |\n",
    "|------|------|\n",
    "| Load YAML | `config = load_yaml(\"file.yaml\", category=\"defaults\")` |\n",
    "| Get value | `value = config[\"key\"][\"subkey\"]` |\n",
    "| Get provenance | `prov = value.provenance.current` |\n",
    "| Modify value | `config[\"key\"] = new_value` |\n",
    "| Save YAML | `dump_yaml(config, \"out.yaml\", include_provenance=True)` |\n",
    "| Clean provenance | `clean_config = clean_provenance(config)` |\n",
    "| Extract tree | `tree = extract_provenance_tree(config)` |"
   ]
  },
  {
   "cell_type": "code",
   "execution_count": 9,
   "metadata": {
    "execution": {
     "iopub.execute_input": "2025-10-08T12:10:58.896943Z",
     "iopub.status.busy": "2025-10-08T12:10:58.896859Z",
     "iopub.status.idle": "2025-10-08T12:10:58.898994Z",
     "shell.execute_reply": "2025-10-08T12:10:58.898697Z"
    }
   },
   "outputs": [],
   "source": [
    "# Cleanup temporary file\n",
    "if output_file.exists():\n",
    "    output_file.unlink()"
   ]
  }
 ],
 "metadata": {
  "kernelspec": {
   "display_name": "Python 3",
   "language": "python",
   "name": "python3"
  },
  "language_info": {
   "codemirror_mode": {
    "name": "ipython",
    "version": 3
   },
   "file_extension": ".py",
   "mimetype": "text/x-python",
   "name": "python",
   "nbconvert_exporter": "python",
   "pygments_lexer": "ipython3",
   "version": "3.10.12"
  }
 },
 "nbformat": 4,
 "nbformat_minor": 4
}
